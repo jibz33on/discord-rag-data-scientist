{
  "nbformat": 4,
  "nbformat_minor": 0,
  "metadata": {
    "colab": {
      "provenance": [],
      "authorship_tag": "ABX9TyNYOMucb/sTcvwtwlqpDljN",
      "include_colab_link": true
    },
    "kernelspec": {
      "name": "python3",
      "display_name": "Python 3"
    },
    "language_info": {
      "name": "python"
    }
  },
  "cells": [
    {
      "cell_type": "markdown",
      "metadata": {
        "id": "view-in-github",
        "colab_type": "text"
      },
      "source": [
        "<a href=\"https://colab.research.google.com/github/jibz33on/discord-rag-data-scientist/blob/main/notebooks/Discord_Chatbot.ipynb\" target=\"_parent\"><img src=\"https://colab.research.google.com/assets/colab-badge.svg\" alt=\"Open In Colab\"/></a>"
      ]
    },
    {
      "cell_type": "code",
      "source": [
        "!git clone https://github.com/jibz33on/discord-rag-data-scientist.git\n",
        "%cd discord-rag-data-scientist\n",
        "!ls -la\n"
      ],
      "metadata": {
        "colab": {
          "base_uri": "https://localhost:8080/"
        },
        "id": "5k18e4yvnYQz",
        "outputId": "a4db1cff-538d-4004-ce3c-8dd288e9f5c9"
      },
      "execution_count": 2,
      "outputs": [
        {
          "output_type": "stream",
          "name": "stdout",
          "text": [
            "Cloning into 'discord-rag-data-scientist'...\n",
            "remote: Enumerating objects: 34, done.\u001b[K\n",
            "remote: Counting objects: 100% (34/34), done.\u001b[K\n",
            "remote: Compressing objects: 100% (28/28), done.\u001b[K\n",
            "remote: Total 34 (delta 9), reused 24 (delta 3), pack-reused 0 (from 0)\u001b[K\n",
            "Receiving objects: 100% (34/34), 43.35 KiB | 1.61 MiB/s, done.\n",
            "Resolving deltas: 100% (9/9), done.\n",
            "/content/discord-rag-data-scientist\n",
            "total 36\n",
            "drwxr-xr-x 6 root root 4096 Sep 27 05:24 .\n",
            "drwxr-xr-x 1 root root 4096 Sep 27 05:24 ..\n",
            "-rw-r--r-- 1 root root  313 Sep 27 05:24 BLOCKERS.md\n",
            "drwxr-xr-x 2 root root 4096 Sep 27 05:24 docs\n",
            "drwxr-xr-x 8 root root 4096 Sep 27 05:24 .git\n",
            "-rw-r--r-- 1 root root   50 Sep 27 05:24 .gitignore\n",
            "drwxr-xr-x 2 root root 4096 Sep 27 05:24 notebooks\n",
            "-rw-r--r-- 1 root root  274 Sep 27 05:24 README.md\n",
            "drwxr-xr-x 2 root root 4096 Sep 27 05:24 tests\n"
          ]
        }
      ]
    },
    {
      "cell_type": "code",
      "source": [
        "import nbformat\n",
        "from nbformat import read, write, NO_CONVERT\n",
        "import shutil\n",
        "\n",
        "nb_path = \"notebooks/Discord_Chatbot.ipynb\"\n",
        "backup_path = \"notebooks/Discord_Chatbot_backup.ipynb\"\n",
        "\n",
        "# Make a backup\n",
        "shutil.copy(nb_path, backup_path)\n",
        "print(f\"✅ Backup saved to {backup_path}\")\n",
        "\n",
        "# Load the notebook\n",
        "nb = read(nb_path, as_version=NO_CONVERT)\n",
        "\n",
        "# Remove top-level widgets metadata\n",
        "if 'widgets' in nb.metadata:\n",
        "    del nb.metadata['widgets']\n",
        "\n",
        "# Remove widgets metadata from cells\n",
        "for cell in nb.cells:\n",
        "    if 'metadata' in cell and 'widgets' in cell['metadata']:\n",
        "        del cell['metadata']['widgets']\n",
        "\n",
        "# Clear outputs + execution counts\n",
        "for cell in nb.cells:\n",
        "    if cell.get('outputs'):\n",
        "        cell['outputs'] = []\n",
        "    if 'execution_count' in cell:\n",
        "        cell['execution_count'] = None\n",
        "\n",
        "# Save back\n",
        "write(nb, nb_path)\n",
        "print(\"✅ Notebook cleaned and saved!\")\n",
        "\n"
      ],
      "metadata": {
        "colab": {
          "base_uri": "https://localhost:8080/"
        },
        "id": "5EkQEg2QoTGG",
        "outputId": "2c0c8d8e-5117-43ab-ebe3-a9a91f50674c"
      },
      "execution_count": 3,
      "outputs": [
        {
          "output_type": "stream",
          "name": "stdout",
          "text": [
            "✅ Backup saved to notebooks/Discord_Chatbot_backup.ipynb\n",
            "✅ Notebook cleaned and saved!\n"
          ]
        }
      ]
    },
    {
      "cell_type": "code",
      "source": [
        "!git add notebooks/Discord_Chatbot.ipynb\n",
        "!git commit -m \"fix: clean notebook metadata + outputs for GitHub rendering\""
      ],
      "metadata": {
        "colab": {
          "base_uri": "https://localhost:8080/"
        },
        "id": "SN3BGAm_okyk",
        "outputId": "ebe2d0ba-bfec-456e-da5e-4a1d127c9886"
      },
      "execution_count": 4,
      "outputs": [
        {
          "output_type": "stream",
          "name": "stdout",
          "text": [
            "Author identity unknown\n",
            "\n",
            "*** Please tell me who you are.\n",
            "\n",
            "Run\n",
            "\n",
            "  git config --global user.email \"you@example.com\"\n",
            "  git config --global user.name \"Your Name\"\n",
            "\n",
            "to set your account's default identity.\n",
            "Omit --global to set the identity only in this repository.\n",
            "\n",
            "fatal: unable to auto-detect email address (got 'root@ff2cf7919517.(none)')\n"
          ]
        }
      ]
    },
    {
      "cell_type": "code",
      "source": [
        "!git config --global user.email \"jibz33on@gmail.com\"\n",
        "!git config --global user.name \"jibz33on\""
      ],
      "metadata": {
        "id": "hLeCLxbGo3tI"
      },
      "execution_count": 5,
      "outputs": []
    },
    {
      "cell_type": "code",
      "source": [
        "!git add notebooks/Discord_Chatbot.ipynb\n",
        "!git commit -m \"fix: clean notebook metadata + outputs for GitHub rendering\""
      ],
      "metadata": {
        "colab": {
          "base_uri": "https://localhost:8080/"
        },
        "id": "yUEbbTMCpCbV",
        "outputId": "65e53ea6-47b9-4277-9147-193703fba8d1"
      },
      "execution_count": 6,
      "outputs": [
        {
          "output_type": "stream",
          "name": "stdout",
          "text": [
            "[main c81b8c3] fix: clean notebook metadata + outputs for GitHub rendering\n",
            " 1 file changed, 1608 insertions(+), 6451 deletions(-)\n",
            " rewrite notebooks/Discord_Chatbot.ipynb (99%)\n"
          ]
        }
      ]
    },
    {
      "cell_type": "code",
      "source": [
        "# list the backups folder\n",
        "ls -la notebooks/backups notebooks | sed -n '1,200p'\n",
        "# or\n",
        "ls -la notebooks/Discord_Chatbot_backup.ipynb\n",
        "\n"
      ],
      "metadata": {
        "colab": {
          "base_uri": "https://localhost:8080/",
          "height": 106
        },
        "id": "3_vTsL1TpEdZ",
        "outputId": "7862453c-0234-4851-d001-9e5642e9b085"
      },
      "execution_count": 7,
      "outputs": [
        {
          "output_type": "error",
          "ename": "SyntaxError",
          "evalue": "invalid syntax (ipython-input-3937554383.py, line 2)",
          "traceback": [
            "\u001b[0;36m  File \u001b[0;32m\"/tmp/ipython-input-3937554383.py\"\u001b[0;36m, line \u001b[0;32m2\u001b[0m\n\u001b[0;31m    ls -la notebooks/backups notebooks | sed -n '1,200p'\u001b[0m\n\u001b[0m           ^\u001b[0m\n\u001b[0;31mSyntaxError\u001b[0m\u001b[0;31m:\u001b[0m invalid syntax\n"
          ]
        }
      ]
    },
    {
      "cell_type": "code",
      "source": [
        "ls -la notebooks/Discord_Chatbot_backup.ipynb"
      ],
      "metadata": {
        "colab": {
          "base_uri": "https://localhost:8080/"
        },
        "id": "UbAAANpOu1S2",
        "outputId": "0b12b393-7e9e-49d6-f743-97fed82604c0"
      },
      "execution_count": 8,
      "outputs": [
        {
          "output_type": "stream",
          "name": "stdout",
          "text": [
            "-rw-r--r-- 1 root root 266850 Sep 27 05:25 notebooks/Discord_Chatbot_backup.ipynb\n"
          ]
        }
      ]
    },
    {
      "cell_type": "code",
      "source": [
        "%cd /content/discord-rag-data-scientist\n",
        "!git status --porcelain\n",
        "!git log --oneline -n 5\n"
      ],
      "metadata": {
        "colab": {
          "base_uri": "https://localhost:8080/"
        },
        "id": "lxTClS-IvEYz",
        "outputId": "50722e1b-fefe-45e3-9bae-4e9fdd4d5c59"
      },
      "execution_count": 9,
      "outputs": [
        {
          "output_type": "stream",
          "name": "stdout",
          "text": [
            "/content/discord-rag-data-scientist\n",
            "?? notebooks/Discord_Chatbot_backup.ipynb\n",
            "\u001b[33mc81b8c3\u001b[m\u001b[33m (\u001b[m\u001b[1;36mHEAD -> \u001b[m\u001b[1;32mmain\u001b[m\u001b[33m)\u001b[m fix: clean notebook metadata + outputs for GitHub rendering\n",
            "\u001b[33mff2eb73\u001b[m\u001b[33m (\u001b[m\u001b[1;31morigin/main\u001b[m\u001b[33m, \u001b[m\u001b[1;31morigin/HEAD\u001b[m\u001b[33m)\u001b[m Created using Colab\n",
            "\u001b[33md04e66c\u001b[m  Updated\n",
            "\u001b[33m3e5ef11\u001b[m Add vector dase research\n",
            "\u001b[33m28271cf\u001b[m  Improved version\n"
          ]
        }
      ]
    },
    {
      "cell_type": "code",
      "source": [],
      "metadata": {
        "id": "hYkq9txIvIc-"
      },
      "execution_count": null,
      "outputs": []
    }
  ]
}